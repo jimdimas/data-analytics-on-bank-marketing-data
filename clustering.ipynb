{
 "cells": [
  {
   "cell_type": "markdown",
   "metadata": {},
   "source": [
    "In this file i will use unsupervised learning techniques - clustering to try to discover new information about our data that isn't visible using simple statistical methods.\n",
    "First i will import all the needed dependencies. "
   ]
  },
  {
   "cell_type": "code",
   "execution_count": 8,
   "metadata": {},
   "outputs": [],
   "source": [
    "import numpy as np\n",
    "import pandas as pd\n",
    "import seaborn as sns\n",
    "\n",
    "from sklearn.cluster import KMeans\n",
    "from matplotlib import pyplot as plt\n",
    "from sklearn.decomposition import PCA\n",
    "from sklearn.manifold import TSNE\n",
    "plt.style.use('dark_background')"
   ]
  },
  {
   "cell_type": "markdown",
   "metadata": {},
   "source": [
    "Most clustering techniques require numerical data , whereas our dataset is comprised of a lot of binary/onehot columns.\n",
    "In order for clustering techniques to work , i will convert the dataset to a numeric representation using PCA."
   ]
  },
  {
   "cell_type": "code",
   "execution_count": 12,
   "metadata": {},
   "outputs": [],
   "source": [
    "data=pd.read_csv('./data/preprocessed_final_data.csv',sep=',')\n",
    "y=data['y']\n",
    "data=data.drop(['y'],axis=1)"
   ]
  },
  {
   "cell_type": "markdown",
   "metadata": {},
   "source": [
    "The parameter passed to PCA suggests the initial information retention , i will use 0.9 which means 90% which is a good approximation."
   ]
  },
  {
   "cell_type": "code",
   "execution_count": 13,
   "metadata": {},
   "outputs": [
    {
     "name": "stdout",
     "output_type": "stream",
     "text": [
      "The pca components of the transformed dataset are :  15\n"
     ]
    }
   ],
   "source": [
    "pca=PCA(0.9)\n",
    "pca.fit(data)\n",
    "PCA(copy=True, iterated_power='auto', n_components=0.9, random_state=None,\n",
    "  svd_solver='auto', tol=0.0, whiten=False)\n",
    "\n",
    "t_d=pca.transform(data)\n",
    "print(\"The pca components of the transformed dataset are : \",pca.n_components_)"
   ]
  },
  {
   "cell_type": "markdown",
   "metadata": {},
   "source": [
    "First i will use the k-means clustering method.In this method we provide the number of clusters that we want the dataset space to be split beforehand.\n",
    "This means we need to determine the optimal number of clusters beforehand.A good k value is one that minimizes the intra-cluster sum of square distances between datapoints.\n",
    "This means we can iterate k for different values and calculate the sum of squares each time and then plot the results for each k.\n",
    "We can determine the optimal number of clusters by finding the plot point where there is an 'elbow' , the point where the graph slope starts to stabilize."
   ]
  },
  {
   "cell_type": "markdown",
   "metadata": {},
   "source": [
    "Lets calculate the intra cluster sum of squares for each value of k from 1 to 10."
   ]
  },
  {
   "cell_type": "code",
   "execution_count": 14,
   "metadata": {},
   "outputs": [],
   "source": [
    "kmeans_kwargs = {\n",
    "    \"init\": \"random\",\n",
    "    \"n_init\": 10,\n",
    "    \"max_iter\": 300,\n",
    "    \"random_state\": 42,\n",
    "}\n",
    "\n",
    "sse = []\n",
    "for k in range(1, 11):\n",
    "    kmeans = KMeans(n_clusters=k, **kmeans_kwargs)\n",
    "    kmeans.fit(t_d)\n",
    "    sse.append(kmeans.inertia_)"
   ]
  },
  {
   "cell_type": "markdown",
   "metadata": {},
   "source": [
    "Now i will plot the results to find the elbow point."
   ]
  },
  {
   "cell_type": "code",
   "execution_count": 15,
   "metadata": {},
   "outputs": [
    {
     "data": {
      "image/png": "[encoded data removed]",
      "text/plain": [
       "<Figure size 640x480 with 1 Axes>"
      ]
     },
     "metadata": {},
     "output_type": "display_data"
    }
   ],
   "source": [
    "plt.plot(range(1, 11), sse)\n",
    "plt.xticks(range(1, 11))\n",
    "plt.xlabel(\"Number of Clusters\")\n",
    "plt.ylabel(\"SSE\")\n",
    "plt.show()"
   ]
  },
  {
   "cell_type": "markdown",
   "metadata": {},
   "source": [
    "As we can see , the elbow point of the graph seems to be k=3.I will perform clustering now using k=3."
   ]
  },
  {
   "cell_type": "code",
   "execution_count": 16,
   "metadata": {},
   "outputs": [
    {
     "data": {
      "text/html": [
       "<style>#sk-container-id-1 {color: black;background-color: white;}#sk-container-id-1 pre{padding: 0;}#sk-container-id-1 div.sk-toggleable {background-color: white;}#sk-container-id-1 label.sk-toggleable__label {cursor: pointer;display: block;width: 100%;margin-bottom: 0;padding: 0.3em;box-sizing: border-box;text-align: center;}#sk-container-id-1 label.sk-toggleable__label-arrow:before {content: \"▸\";float: left;margin-right: 0.25em;color: #696969;}#sk-container-id-1 label.sk-toggleable__label-arrow:hover:before {color: black;}#sk-container-id-1 div.sk-estimator:hover label.sk-toggleable__label-arrow:before {color: black;}#sk-container-id-1 div.sk-toggleable__content {max-height: 0;max-width: 0;overflow: hidden;text-align: left;background-color: #f0f8ff;}#sk-container-id-1 div.sk-toggleable__content pre {margin: 0.2em;color: black;border-radius: 0.25em;background-color: #f0f8ff;}#sk-container-id-1 input.sk-toggleable__control:checked~div.sk-toggleable__content {max-height: 200px;max-width: 100%;overflow: auto;}#sk-container-id-1 input.sk-toggleable__control:checked~label.sk-toggleable__label-arrow:before {content: \"▾\";}#sk-container-id-1 div.sk-estimator input.sk-toggleable__control:checked~label.sk-toggleable__label {background-color: #d4ebff;}#sk-container-id-1 div.sk-label input.sk-toggleable__control:checked~label.sk-toggleable__label {background-color: #d4ebff;}#sk-container-id-1 input.sk-hidden--visually {border: 0;clip: rect(1px 1px 1px 1px);clip: rect(1px, 1px, 1px, 1px);height: 1px;margin: -1px;overflow: hidden;padding: 0;position: absolute;width: 1px;}#sk-container-id-1 div.sk-estimator {font-family: monospace;background-color: #f0f8ff;border: 1px dotted black;border-radius: 0.25em;box-sizing: border-box;margin-bottom: 0.5em;}#sk-container-id-1 div.sk-estimator:hover {background-color: #d4ebff;}#sk-container-id-1 div.sk-parallel-item::after {content: \"\";width: 100%;border-bottom: 1px solid gray;flex-grow: 1;}#sk-container-id-1 div.sk-label:hover label.sk-toggleable__label {background-color: #d4ebff;}#sk-container-id-1 div.sk-serial::before {content: \"\";position: absolute;border-left: 1px solid gray;box-sizing: border-box;top: 0;bottom: 0;left: 50%;z-index: 0;}#sk-container-id-1 div.sk-serial {display: flex;flex-direction: column;align-items: center;background-color: white;padding-right: 0.2em;padding-left: 0.2em;position: relative;}#sk-container-id-1 div.sk-item {position: relative;z-index: 1;}#sk-container-id-1 div.sk-parallel {display: flex;align-items: stretch;justify-content: center;background-color: white;position: relative;}#sk-container-id-1 div.sk-item::before, #sk-container-id-1 div.sk-parallel-item::before {content: \"\";position: absolute;border-left: 1px solid gray;box-sizing: border-box;top: 0;bottom: 0;left: 50%;z-index: -1;}#sk-container-id-1 div.sk-parallel-item {display: flex;flex-direction: column;z-index: 1;position: relative;background-color: white;}#sk-container-id-1 div.sk-parallel-item:first-child::after {align-self: flex-end;width: 50%;}#sk-container-id-1 div.sk-parallel-item:last-child::after {align-self: flex-start;width: 50%;}#sk-container-id-1 div.sk-parallel-item:only-child::after {width: 0;}#sk-container-id-1 div.sk-dashed-wrapped {border: 1px dashed gray;margin: 0 0.4em 0.5em 0.4em;box-sizing: border-box;padding-bottom: 0.4em;background-color: white;}#sk-container-id-1 div.sk-label label {font-family: monospace;font-weight: bold;display: inline-block;line-height: 1.2em;}#sk-container-id-1 div.sk-label-container {text-align: center;}#sk-container-id-1 div.sk-container {/* jupyter's `normalize.less` sets `[hidden] { display: none; }` but bootstrap.min.css set `[hidden] { display: none !important; }` so we also need the `!important` here to be able to override the default hidden behavior on the sphinx rendered scikit-learn.org. See: https://github.com/scikit-learn/scikit-learn/issues/21755 */display: inline-block !important;position: relative;}#sk-container-id-1 div.sk-text-repr-fallback {display: none;}</style><div id=\"sk-container-id-1\" class=\"sk-top-container\"><div class=\"sk-text-repr-fallback\"><pre>KMeans(init=&#x27;random&#x27;, n_clusters=3, n_init=10, random_state=42)</pre><b>In a Jupyter environment, please rerun this cell to show the HTML representation or trust the notebook. <br />On GitHub, the HTML representation is unable to render, please try loading this page with nbviewer.org.</b></div><div class=\"sk-container\" hidden><div class=\"sk-item\"><div class=\"sk-estimator sk-toggleable\"><input class=\"sk-toggleable__control sk-hidden--visually\" id=\"sk-estimator-id-1\" type=\"checkbox\" checked><label for=\"sk-estimator-id-1\" class=\"sk-toggleable__label sk-toggleable__label-arrow\">KMeans</label><div class=\"sk-toggleable__content\"><pre>KMeans(init=&#x27;random&#x27;, n_clusters=3, n_init=10, random_state=42)</pre></div></div></div></div></div>"
      ],
      "text/plain": [
       "KMeans(init='random', n_clusters=3, n_init=10, random_state=42)"
      ]
     },
     "execution_count": 16,
     "metadata": {},
     "output_type": "execute_result"
    }
   ],
   "source": [
    "kmeans = KMeans(\n",
    "    init=\"random\",\n",
    "    n_clusters=3,\n",
    "    n_init=10,\n",
    "    max_iter=300,\n",
    "    random_state=42\n",
    ")\n",
    "kmeans.fit(t_d)"
   ]
  },
  {
   "cell_type": "markdown",
   "metadata": {},
   "source": [
    "Assign each record its label based on clustering."
   ]
  },
  {
   "cell_type": "code",
   "execution_count": 17,
   "metadata": {},
   "outputs": [],
   "source": [
    "data['labels']=kmeans.labels_\n",
    "data['y']=y"
   ]
  },
  {
   "cell_type": "markdown",
   "metadata": {},
   "source": [
    "Now , i will try to see if there is any particular cluster with a high percentage of minority - 'yes' class records."
   ]
  },
  {
   "cell_type": "code",
   "execution_count": 18,
   "metadata": {},
   "outputs": [
    {
     "name": "stdout",
     "output_type": "stream",
     "text": [
      "Cluster 0 has : 0.04962810438290541  precent of minority samples\n",
      "Cluster 1: 0.19456471672040535  precent of minority samples\n",
      "Cluster 2: 0.6309263311451495  precent of minority samples\n"
     ]
    }
   ],
   "source": [
    "print(\"Cluster 0 has :\",data[data.labels==0].query(\"y==1\").shape[0]/data[data.labels==0].shape[0],\" precent of minority samples\")\n",
    "print(\"Cluster 1:\",data[data.labels==1].query(\"y==1\").shape[0]/data[data.labels==1].shape[0],\" precent of minority samples\")\n",
    "print(\"Cluster 2:\",data[data.labels==2].query(\"y==1\").shape[0]/data[data.labels==2].shape[0],\" precent of minority samples\")"
   ]
  },
  {
   "cell_type": "markdown",
   "metadata": {},
   "source": [
    "As we can see , cluster 1 has a high percentage of minority class records and cluster 0 has a higher percentage compared to the initial 11% present in our dataset.\n",
    "Let's see how many records of the minority class each cluster contains."
   ]
  },
  {
   "cell_type": "code",
   "execution_count": 19,
   "metadata": {},
   "outputs": [
    {
     "name": "stdout",
     "output_type": "stream",
     "text": [
      "Cluster 0 has  23797  total records  where  1181  are minority class records\n",
      "Cluster 1 has  10855  total records  where  2112  are minority class records\n",
      "Cluster 2 has  1371  total records  where  865  are minority class records\n"
     ]
    }
   ],
   "source": [
    "print(\"Cluster 0 has \",data[data['labels']==0].shape[0],\" total records\",\" where \",data[data['labels']==0].query(\"y==1\").shape[0],\" are minority class records\")\n",
    "print(\"Cluster 1 has \",data[data['labels']==1].shape[0],\" total records\",\" where \",data[data['labels']==1].query(\"y==1\").shape[0],\" are minority class records\")\n",
    "print(\"Cluster 2 has \",data[data['labels']==2].shape[0],\" total records\",\" where \",data[data['labels']==2].query(\"y==1\").shape[0],\" are minority class records\")"
   ]
  },
  {
   "cell_type": "markdown",
   "metadata": {},
   "source": [
    "As we can see , even though cluster 1 had a high percentage of minority class records , most of these records exist in the other clusters , meaning we weren't able to split the dataset feature space that well and seperate the classes."
   ]
  },
  {
   "cell_type": "markdown",
   "metadata": {},
   "source": [
    "Now i will try to use DBSCAN clustering to try to yield any different results.DBSCAN comes from Density-Based Spatial Clustering of Applications with Noise.This clustering method tries to find high density aeras in our dataset feature space and will create density based clusters on its own , without needing to specify the number of clusters beforehand.Also this clustering method can also find outliers on its own.\n",
    "DBSCAN has two hyperparameters which need to be tweaked in order to find their optimal price , minpts and eps , where eps is the max distance two datapoints can have to be considered neighbors and minpts is the number of neighbors needed in order to form a 'strong' point.\n",
    "We can calculate the value for eps using the k-nearest neighbors technique , where we calculate the the average distance for each datapoint with each k nearest neighbors and then we can plot the distances at Y axis and number of datapoints on the X axis.\n",
    "We can find the optimal value of eps at the point with max curvature of the resulting graph.\n",
    "The optimal price of minpts cant be calculated with a certain method , but as the dataset size and dimensionality increases , we need to have a higher price for it.Generally its good for minpts to be higher that double the dimensionality of the dataset\n",
    "For the n_neighbors value of KNN i will use the heuristic n_neighbors=sqrt(dataset_size)"
   ]
  },
  {
   "cell_type": "code",
   "execution_count": 20,
   "metadata": {},
   "outputs": [
    {
     "name": "stdout",
     "output_type": "stream",
     "text": [
      "The square root of the dataset record number is : 189.79726025419862\n"
     ]
    }
   ],
   "source": [
    "print(\"The square root of the dataset record number is :\",pow(data.shape[0],0.5))"
   ]
  },
  {
   "cell_type": "code",
   "execution_count": 21,
   "metadata": {},
   "outputs": [
    {
     "data": {
      "text/plain": [
       "[<matplotlib.lines.Line2D at 0x238d7930110>]"
      ]
     },
     "execution_count": 21,
     "metadata": {},
     "output_type": "execute_result"
    },
    {
     "data": {
      "image/png": "[encoded data removed]",
      "text/plain": [
       "<Figure size 640x480 with 1 Axes>"
      ]
     },
     "metadata": {},
     "output_type": "display_data"
    }
   ],
   "source": [
    "from sklearn.neighbors import NearestNeighbors\n",
    " \n",
    "neighbors = NearestNeighbors(n_neighbors=190)\n",
    "neighbors_fit = neighbors.fit(t_d)\n",
    "distances, indices = neighbors_fit.kneighbors(t_d)\n",
    "distances = np.sort(distances, axis=0)\n",
    "\n",
    "distances = distances[:,1]\n",
    "plt.plot(distances)"
   ]
  },
  {
   "cell_type": "markdown",
   "metadata": {},
   "source": [
    "As we can see , the value 1.5 for eps is a good approximation for the point of max curvature.Afte all , eps is a hyperparameter , meaning there isnt an exact way to calculate a price for it , but only good approximations.\n",
    "Also the same applies for minpts hyperparameter , we only have the requirment minpts>2*dataset_dimensionality"
   ]
  },
  {
   "cell_type": "code",
   "execution_count": 22,
   "metadata": {},
   "outputs": [
    {
     "name": "stdout",
     "output_type": "stream",
     "text": [
      "The minpts hyperparameter must be higher than:  30\n"
     ]
    }
   ],
   "source": [
    "print(\"The minpts hyperparameter must be higher than: \",2*t_d.shape[1])"
   ]
  },
  {
   "cell_type": "markdown",
   "metadata": {},
   "source": [
    "I will choose 36 randomly."
   ]
  },
  {
   "cell_type": "code",
   "execution_count": 23,
   "metadata": {},
   "outputs": [
    {
     "data": {
      "text/plain": [
       "array([-1,  0,  1,  2,  3,  4,  5,  6], dtype=int64)"
      ]
     },
     "execution_count": 23,
     "metadata": {},
     "output_type": "execute_result"
    }
   ],
   "source": [
    "from sklearn.cluster import DBSCAN\n",
    "eps=1.5\n",
    "dbscan = DBSCAN(eps=eps,min_samples=36)\n",
    "dbscan.fit(t_d)\n",
    "\n",
    "labels = dbscan.labels_\n",
    "np.unique(labels)"
   ]
  },
  {
   "cell_type": "markdown",
   "metadata": {},
   "source": [
    "As we can see , DBSCAN figured out there are 7 unique clusters based on the hyperparameter we provided and a group of outliers (labeled with -1).\n",
    "Lets assign each record its label and check for intra cluster statistics based on the output column."
   ]
  },
  {
   "cell_type": "code",
   "execution_count": 24,
   "metadata": {},
   "outputs": [],
   "source": [
    "data['labels']=labels\n",
    "data['y']=y"
   ]
  },
  {
   "cell_type": "code",
   "execution_count": 25,
   "metadata": {},
   "outputs": [
    {
     "name": "stdout",
     "output_type": "stream",
     "text": [
      "Cluster 0 is comprised of  0.050140601341120486  percent of minority class records.\n",
      "Cluster 1 is comprised of  0.03536977491961415  percent of minority class records.\n",
      "Cluster 2 is comprised of  0.13954781319495924  percent of minority class records.\n",
      "Cluster 3 is comprised of  0.07292759706190975  percent of minority class records.\n",
      "Cluster 4 is comprised of  0.35926773455377575  percent of minority class records.\n",
      "Cluster 5 is comprised of  0.35360824742268043  percent of minority class records.\n",
      "Cluster 6 is comprised of  0.4075829383886256  percent of minority class records.\n",
      "Outliers have  0.4453357100415924  percent of minority class records.\n"
     ]
    }
   ],
   "source": [
    "print(\"Cluster 0 is comprised of \",data[data.labels==0].query(\"y==1\").shape[0]/data[data.labels==0].shape[0],\" percent of minority class records.\")\n",
    "print(\"Cluster 1 is comprised of \",data[data.labels==1].query(\"y==1\").shape[0]/data[data.labels==1].shape[0],\" percent of minority class records.\")\n",
    "print(\"Cluster 2 is comprised of \",data[data.labels==2].query(\"y==1\").shape[0]/data[data.labels==2].shape[0],\" percent of minority class records.\")\n",
    "print(\"Cluster 3 is comprised of \",data[data.labels==3].query(\"y==1\").shape[0]/data[data.labels==3].shape[0],\" percent of minority class records.\")\n",
    "print(\"Cluster 4 is comprised of \",data[data.labels==4].query(\"y==1\").shape[0]/data[data.labels==4].shape[0],\" percent of minority class records.\")\n",
    "print(\"Cluster 5 is comprised of \",data[data.labels==5].query(\"y==1\").shape[0]/data[data.labels==5].shape[0],\" percent of minority class records.\")\n",
    "print(\"Cluster 6 is comprised of \",data[data.labels==6].query(\"y==1\").shape[0]/data[data.labels==6].shape[0],\" percent of minority class records.\")\n",
    "print(\"Outliers have \",data[data.labels==-1].query(\"y==1\").shape[0]/data[data.labels==-1].shape[0],\" percent of minority class records.\")"
   ]
  },
  {
   "cell_type": "markdown",
   "metadata": {},
   "source": [
    "As we can see clusters 4-6 and outliers have a high percentage of minority class records.\n",
    "Lets check how many minority class records are in each cluster."
   ]
  },
  {
   "cell_type": "code",
   "execution_count": 26,
   "metadata": {},
   "outputs": [
    {
     "name": "stdout",
     "output_type": "stream",
     "text": [
      "Cluster 0 has  23115  records where  1159  are minority class records\n",
      "Cluster 1 has  622  records where  22  are minority class records\n",
      "Cluster 2 has  5396  records where  753  are minority class records\n",
      "Cluster 3 has  1906  records where  139  are minority class records\n",
      "Cluster 4 has  437  records where  157  are minority class records\n",
      "Cluster 5 has 970  records where  343  are minority class records\n",
      "Cluster 6 has 211  records where  86  are minority class records\n",
      "Outliers are  3366  records where  1499  are minority class records\n"
     ]
    }
   ],
   "source": [
    "print(\"Cluster 0 has \",data[data.labels==0].shape[0],\" records where \", data[data.labels==0].query(\"y==1\").shape[0],\" are minority class records\")\n",
    "print(\"Cluster 1 has \",data[data.labels==1].shape[0],\" records where \", data[data.labels==1].query(\"y==1\").shape[0],\" are minority class records\")\n",
    "print(\"Cluster 2 has \",data[data.labels==2].shape[0],\" records where \", data[data.labels==2].query(\"y==1\").shape[0],\" are minority class records\")\n",
    "print(\"Cluster 3 has \",data[data.labels==3].shape[0],\" records where \", data[data.labels==3].query(\"y==1\").shape[0],\" are minority class records\")\n",
    "print(\"Cluster 4 has \",data[data.labels==4].shape[0],\" records where \", data[data.labels==4].query(\"y==1\").shape[0],\" are minority class records\")\n",
    "print(\"Cluster 5 has\",data[data.labels==5].shape[0],\" records where \", data[data.labels==5].query(\"y==1\").shape[0],\" are minority class records\")\n",
    "print(\"Cluster 6 has\",data[data.labels==6].shape[0],\" records where \", data[data.labels==6].query(\"y==1\").shape[0],\" are minority class records\")\n",
    "print(\"Outliers are \",data[data.labels==-1].shape[0],\" records where \", data[data.labels==-1].query(\"y==1\").shape[0],\" are minority class records\")"
   ]
  },
  {
   "cell_type": "markdown",
   "metadata": {},
   "source": [
    "As we can see , even though clusters 4-6 had a high percentage of minority class records , the number of records in these clusters is really small.\n",
    "Most of our minority class records are in the outliers and cluster 0.Lets check the percentage of these minority class records per cluster out of the total minority class size."
   ]
  },
  {
   "cell_type": "code",
   "execution_count": 27,
   "metadata": {},
   "outputs": [
    {
     "name": "stdout",
     "output_type": "stream",
     "text": [
      "Cluster 0 has  0.27873977873977873  percent of total minority class records\n",
      "Cluster 1 has  0.005291005291005291  percent of total minority class records\n",
      "Cluster 2 has  0.1810966810966811  percent of total minority class records\n",
      "Cluster 3 has  0.03342953342953343  percent of total minority class records\n",
      "Cluster 4 has  0.037758537758537755  percent of total minority class records\n",
      "Cluster 5 has  0.08249158249158249  percent of total minority class records\n",
      "Cluster 6 has  0.02068302068302068  percent of total minority class records\n",
      "Outliers have  0.3605098605098605  percent of total minority class records\n"
     ]
    }
   ],
   "source": [
    "print(\"Cluster 0 has \",data[data.labels==0].query(\"y==1\").shape[0]/data[data.y==1].shape[0],\" percent of total minority class records\")\n",
    "print(\"Cluster 1 has \",data[data.labels==1].query(\"y==1\").shape[0]/data[data.y==1].shape[0],\" percent of total minority class records\")\n",
    "print(\"Cluster 2 has \",data[data.labels==2].query(\"y==1\").shape[0]/data[data.y==1].shape[0],\" percent of total minority class records\")\n",
    "print(\"Cluster 3 has \",data[data.labels==3].query(\"y==1\").shape[0]/data[data.y==1].shape[0],\" percent of total minority class records\")\n",
    "print(\"Cluster 4 has \",data[data.labels==4].query(\"y==1\").shape[0]/data[data.y==1].shape[0],\" percent of total minority class records\")\n",
    "print(\"Cluster 5 has \",data[data.labels==5].query(\"y==1\").shape[0]/data[data.y==1].shape[0],\" percent of total minority class records\")\n",
    "print(\"Cluster 6 has \",data[data.labels==6].query(\"y==1\").shape[0]/data[data.y==1].shape[0],\" percent of total minority class records\")\n",
    "print(\"Outliers have \",data[data.labels==-1].query(\"y==1\").shape[0]/data[data.y==1].shape[0],\" percent of total minority class records\")"
   ]
  },
  {
   "cell_type": "markdown",
   "metadata": {},
   "source": [
    "Still , even using this method we weren't able to separate the dataset feature space that well to separate each class.\n",
    "As we can see , 36% percent of the minority class records are considered outliers using DBSCAN , meaning a large chunk of them has different characteristics compared to the rest of the dataset."
   ]
  }
 ],
 "metadata": {
  "kernelspec": {
   "display_name": "Python 3.11.1 64-bit",
   "language": "python",
   "name": "python3"
  },
  "language_info": {
   "codemirror_mode": {
    "name": "ipython",
    "version": 3
   },
   "file_extension": ".py",
   "mimetype": "text/x-python",
   "name": "python",
   "nbconvert_exporter": "python",
   "pygments_lexer": "ipython3",
   "version": "3.11.1"
  },
  "orig_nbformat": 4,
  "vscode": {
   "interpreter": {
    "hash": "5238573367df39f7286bb46f9ff5f08f63a01a80960060ce41e3c79b190280fa"
   }
  }
 },
 "nbformat": 4,
 "nbformat_minor": 2
}
