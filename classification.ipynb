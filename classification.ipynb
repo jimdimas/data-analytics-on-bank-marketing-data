{
 "cells": [
  {
   "cell_type": "markdown",
   "metadata": {},
   "source": [
    "On the last step of this project , i will move on with the classification.I will use three different supervised learning method: Naive Bayesian Classifier , Support Vector Machine and Neural Networks.Lets import all of the needed dependencies first."
   ]
  },
  {
   "cell_type": "code",
   "execution_count": 1,
   "metadata": {},
   "outputs": [],
   "source": [
    "import numpy as np\n",
    "import pandas as pd\n",
    "import seaborn as sns\n",
    "import sklearn\n",
    "import keras\n",
    "from sklearn.decomposition import PCA\n",
    "from matplotlib import pyplot as plt\n",
    "plt.style.use('dark_background')\n",
    "from sklearn.model_selection import train_test_split\n",
    "from keras.models import Sequential\n",
    "from keras.layers import Dense\n",
    "from sklearn.metrics import f1_score,accuracy_score,confusion_matrix,ConfusionMatrixDisplay"
   ]
  },
  {
   "cell_type": "code",
   "execution_count": 2,
   "metadata": {},
   "outputs": [],
   "source": [
    "X=pd.read_csv('./data/preprocessed_final_data.csv',sep=',')\n",
    "y=X['y']\n",
    "X=X.drop(['y'],axis=1)"
   ]
  },
  {
   "cell_type": "markdown",
   "metadata": {},
   "source": [
    "Since the minority class is only 11% of our dataset , this means it it going to be hard for our models to learn to classify it,thats why im going to use oversampling.\n",
    "I will randomly select samples from the minority class and reproduce them in order for both classes to have the same number of records in the dataset.\n",
    "This way i will help the supervised models to learn both classes."
   ]
  },
  {
   "cell_type": "code",
   "execution_count": 3,
   "metadata": {},
   "outputs": [],
   "source": [
    "from imblearn.over_sampling import RandomOverSampler\n",
    "\n",
    "oversampler=RandomOverSampler(sampling_strategy=\"minority\") #make minority class equal to majority\n",
    "X,y=oversampler.fit_resample(X,y)"
   ]
  },
  {
   "cell_type": "markdown",
   "metadata": {},
   "source": [
    "In order to continue with the classification process , we need to split our dataset into train and test datasets.I will use 30% of the dataset as the test size."
   ]
  },
  {
   "cell_type": "code",
   "execution_count": 4,
   "metadata": {},
   "outputs": [],
   "source": [
    "X_train,X_test,y_train,y_test=train_test_split(X,y,test_size=0.3,random_state=42)"
   ]
  },
  {
   "cell_type": "markdown",
   "metadata": {},
   "source": [
    "Now i will pass this data first to the Bayes Classifier."
   ]
  },
  {
   "cell_type": "code",
   "execution_count": 5,
   "metadata": {},
   "outputs": [
    {
     "data": {
      "text/html": [
       "<style>#sk-container-id-1 {color: black;background-color: white;}#sk-container-id-1 pre{padding: 0;}#sk-container-id-1 div.sk-toggleable {background-color: white;}#sk-container-id-1 label.sk-toggleable__label {cursor: pointer;display: block;width: 100%;margin-bottom: 0;padding: 0.3em;box-sizing: border-box;text-align: center;}#sk-container-id-1 label.sk-toggleable__label-arrow:before {content: \"▸\";float: left;margin-right: 0.25em;color: #696969;}#sk-container-id-1 label.sk-toggleable__label-arrow:hover:before {color: black;}#sk-container-id-1 div.sk-estimator:hover label.sk-toggleable__label-arrow:before {color: black;}#sk-container-id-1 div.sk-toggleable__content {max-height: 0;max-width: 0;overflow: hidden;text-align: left;background-color: #f0f8ff;}#sk-container-id-1 div.sk-toggleable__content pre {margin: 0.2em;color: black;border-radius: 0.25em;background-color: #f0f8ff;}#sk-container-id-1 input.sk-toggleable__control:checked~div.sk-toggleable__content {max-height: 200px;max-width: 100%;overflow: auto;}#sk-container-id-1 input.sk-toggleable__control:checked~label.sk-toggleable__label-arrow:before {content: \"▾\";}#sk-container-id-1 div.sk-estimator input.sk-toggleable__control:checked~label.sk-toggleable__label {background-color: #d4ebff;}#sk-container-id-1 div.sk-label input.sk-toggleable__control:checked~label.sk-toggleable__label {background-color: #d4ebff;}#sk-container-id-1 input.sk-hidden--visually {border: 0;clip: rect(1px 1px 1px 1px);clip: rect(1px, 1px, 1px, 1px);height: 1px;margin: -1px;overflow: hidden;padding: 0;position: absolute;width: 1px;}#sk-container-id-1 div.sk-estimator {font-family: monospace;background-color: #f0f8ff;border: 1px dotted black;border-radius: 0.25em;box-sizing: border-box;margin-bottom: 0.5em;}#sk-container-id-1 div.sk-estimator:hover {background-color: #d4ebff;}#sk-container-id-1 div.sk-parallel-item::after {content: \"\";width: 100%;border-bottom: 1px solid gray;flex-grow: 1;}#sk-container-id-1 div.sk-label:hover label.sk-toggleable__label {background-color: #d4ebff;}#sk-container-id-1 div.sk-serial::before {content: \"\";position: absolute;border-left: 1px solid gray;box-sizing: border-box;top: 0;bottom: 0;left: 50%;z-index: 0;}#sk-container-id-1 div.sk-serial {display: flex;flex-direction: column;align-items: center;background-color: white;padding-right: 0.2em;padding-left: 0.2em;position: relative;}#sk-container-id-1 div.sk-item {position: relative;z-index: 1;}#sk-container-id-1 div.sk-parallel {display: flex;align-items: stretch;justify-content: center;background-color: white;position: relative;}#sk-container-id-1 div.sk-item::before, #sk-container-id-1 div.sk-parallel-item::before {content: \"\";position: absolute;border-left: 1px solid gray;box-sizing: border-box;top: 0;bottom: 0;left: 50%;z-index: -1;}#sk-container-id-1 div.sk-parallel-item {display: flex;flex-direction: column;z-index: 1;position: relative;background-color: white;}#sk-container-id-1 div.sk-parallel-item:first-child::after {align-self: flex-end;width: 50%;}#sk-container-id-1 div.sk-parallel-item:last-child::after {align-self: flex-start;width: 50%;}#sk-container-id-1 div.sk-parallel-item:only-child::after {width: 0;}#sk-container-id-1 div.sk-dashed-wrapped {border: 1px dashed gray;margin: 0 0.4em 0.5em 0.4em;box-sizing: border-box;padding-bottom: 0.4em;background-color: white;}#sk-container-id-1 div.sk-label label {font-family: monospace;font-weight: bold;display: inline-block;line-height: 1.2em;}#sk-container-id-1 div.sk-label-container {text-align: center;}#sk-container-id-1 div.sk-container {/* jupyter's `normalize.less` sets `[hidden] { display: none; }` but bootstrap.min.css set `[hidden] { display: none !important; }` so we also need the `!important` here to be able to override the default hidden behavior on the sphinx rendered scikit-learn.org. See: https://github.com/scikit-learn/scikit-learn/issues/21755 */display: inline-block !important;position: relative;}#sk-container-id-1 div.sk-text-repr-fallback {display: none;}</style><div id=\"sk-container-id-1\" class=\"sk-top-container\"><div class=\"sk-text-repr-fallback\"><pre>GaussianNB()</pre><b>In a Jupyter environment, please rerun this cell to show the HTML representation or trust the notebook. <br />On GitHub, the HTML representation is unable to render, please try loading this page with nbviewer.org.</b></div><div class=\"sk-container\" hidden><div class=\"sk-item\"><div class=\"sk-estimator sk-toggleable\"><input class=\"sk-toggleable__control sk-hidden--visually\" id=\"sk-estimator-id-1\" type=\"checkbox\" checked><label for=\"sk-estimator-id-1\" class=\"sk-toggleable__label sk-toggleable__label-arrow\">GaussianNB</label><div class=\"sk-toggleable__content\"><pre>GaussianNB()</pre></div></div></div></div></div>"
      ],
      "text/plain": [
       "GaussianNB()"
      ]
     },
     "execution_count": 5,
     "metadata": {},
     "output_type": "execute_result"
    }
   ],
   "source": [
    "from sklearn.naive_bayes import GaussianNB\n",
    "gaussian = GaussianNB()\n",
    "gaussian.fit(X_train, y_train)"
   ]
  },
  {
   "cell_type": "markdown",
   "metadata": {},
   "source": [
    "Now our Gaussin Naive Bayes Classifier has been trained on the train dataset.\n",
    "We need to see how well it will perform now on the test dataset , checking the accuracy and f1 score and the confusion matrix as well , in order to see how well it classifies each category.In order to do this we need the model to predict the output of the test dataset , and then compare it with the actual y_test (true output vs predicted output)"
   ]
  },
  {
   "cell_type": "code",
   "execution_count": 6,
   "metadata": {},
   "outputs": [
    {
     "name": "stdout",
     "output_type": "stream",
     "text": [
      "The Accuracy of the Gaussian Naive Bayes Classifier is :  0.6782258486322507\n",
      "The f1-score of the Gaussian Naive Bayes Classifier is :  0.584492773200054\n"
     ]
    }
   ],
   "source": [
    "y_pred=gaussian.predict(X_test)\n",
    "\n",
    "print(\"The Accuracy of the Gaussian Naive Bayes Classifier is : \",accuracy_score(y_test,y_pred))\n",
    "print(\"The f1-score of the Gaussian Naive Bayes Classifier is : \",f1_score(y_test,y_pred))"
   ]
  },
  {
   "cell_type": "code",
   "execution_count": 7,
   "metadata": {},
   "outputs": [
    {
     "data": {
      "text/plain": [
       "<sklearn.metrics._plot.confusion_matrix.ConfusionMatrixDisplay at 0x2819dbbd050>"
      ]
     },
     "execution_count": 7,
     "metadata": {},
     "output_type": "execute_result"
    },
    {
     "data": {
      "image/png": "[encoded data removed]",
      "text/plain": [
       "<Figure size 640x480 with 2 Axes>"
      ]
     },
     "metadata": {},
     "output_type": "display_data"
    }
   ],
   "source": [
    "labels = [0,1]\n",
    "cm = confusion_matrix(y_test, y_pred, labels=labels)\n",
    "disp = ConfusionMatrixDisplay(confusion_matrix=cm, display_labels=labels)\n",
    "disp.plot()"
   ]
  },
  {
   "cell_type": "markdown",
   "metadata": {},
   "source": [
    "As we can see , the GNB Classifier performs really well on detecting the 'no' samples (true negatives), but does really bad on predicting the 'yes' samples (true positives) , as the size of the false negatives is larger than the true positives , whereas the false positives are a lot less compared to true negatives."
   ]
  },
  {
   "cell_type": "markdown",
   "metadata": {},
   "source": [
    "I will try to use a Support Vector Machine classifier now.In order to use this classifier , we have to convert our dataset to a numeric representation.\n",
    "I will use PCA once again to accomplish this."
   ]
  },
  {
   "cell_type": "code",
   "execution_count": 8,
   "metadata": {},
   "outputs": [
    {
     "name": "stdout",
     "output_type": "stream",
     "text": [
      "The PCA components we need are:  13\n"
     ]
    }
   ],
   "source": [
    "pca = PCA(0.90)\n",
    "pca.fit(X)\n",
    "PCA(copy=True, iterated_power='auto', n_components=0.9, random_state=None,\n",
    "  svd_solver='auto', tol=0.0, whiten=False)\n",
    "print(\"The PCA components we need are: \",pca.n_components_)\n",
    "t_d=pca.fit_transform(X)"
   ]
  },
  {
   "cell_type": "code",
   "execution_count": 9,
   "metadata": {},
   "outputs": [],
   "source": [
    "X_train,X_test,y_train,y_test=train_test_split(t_d,y,test_size=0.3,random_state=42)"
   ]
  },
  {
   "cell_type": "code",
   "execution_count": 10,
   "metadata": {},
   "outputs": [
    {
     "data": {
      "text/html": [
       "<style>#sk-container-id-2 {color: black;background-color: white;}#sk-container-id-2 pre{padding: 0;}#sk-container-id-2 div.sk-toggleable {background-color: white;}#sk-container-id-2 label.sk-toggleable__label {cursor: pointer;display: block;width: 100%;margin-bottom: 0;padding: 0.3em;box-sizing: border-box;text-align: center;}#sk-container-id-2 label.sk-toggleable__label-arrow:before {content: \"▸\";float: left;margin-right: 0.25em;color: #696969;}#sk-container-id-2 label.sk-toggleable__label-arrow:hover:before {color: black;}#sk-container-id-2 div.sk-estimator:hover label.sk-toggleable__label-arrow:before {color: black;}#sk-container-id-2 div.sk-toggleable__content {max-height: 0;max-width: 0;overflow: hidden;text-align: left;background-color: #f0f8ff;}#sk-container-id-2 div.sk-toggleable__content pre {margin: 0.2em;color: black;border-radius: 0.25em;background-color: #f0f8ff;}#sk-container-id-2 input.sk-toggleable__control:checked~div.sk-toggleable__content {max-height: 200px;max-width: 100%;overflow: auto;}#sk-container-id-2 input.sk-toggleable__control:checked~label.sk-toggleable__label-arrow:before {content: \"▾\";}#sk-container-id-2 div.sk-estimator input.sk-toggleable__control:checked~label.sk-toggleable__label {background-color: #d4ebff;}#sk-container-id-2 div.sk-label input.sk-toggleable__control:checked~label.sk-toggleable__label {background-color: #d4ebff;}#sk-container-id-2 input.sk-hidden--visually {border: 0;clip: rect(1px 1px 1px 1px);clip: rect(1px, 1px, 1px, 1px);height: 1px;margin: -1px;overflow: hidden;padding: 0;position: absolute;width: 1px;}#sk-container-id-2 div.sk-estimator {font-family: monospace;background-color: #f0f8ff;border: 1px dotted black;border-radius: 0.25em;box-sizing: border-box;margin-bottom: 0.5em;}#sk-container-id-2 div.sk-estimator:hover {background-color: #d4ebff;}#sk-container-id-2 div.sk-parallel-item::after {content: \"\";width: 100%;border-bottom: 1px solid gray;flex-grow: 1;}#sk-container-id-2 div.sk-label:hover label.sk-toggleable__label {background-color: #d4ebff;}#sk-container-id-2 div.sk-serial::before {content: \"\";position: absolute;border-left: 1px solid gray;box-sizing: border-box;top: 0;bottom: 0;left: 50%;z-index: 0;}#sk-container-id-2 div.sk-serial {display: flex;flex-direction: column;align-items: center;background-color: white;padding-right: 0.2em;padding-left: 0.2em;position: relative;}#sk-container-id-2 div.sk-item {position: relative;z-index: 1;}#sk-container-id-2 div.sk-parallel {display: flex;align-items: stretch;justify-content: center;background-color: white;position: relative;}#sk-container-id-2 div.sk-item::before, #sk-container-id-2 div.sk-parallel-item::before {content: \"\";position: absolute;border-left: 1px solid gray;box-sizing: border-box;top: 0;bottom: 0;left: 50%;z-index: -1;}#sk-container-id-2 div.sk-parallel-item {display: flex;flex-direction: column;z-index: 1;position: relative;background-color: white;}#sk-container-id-2 div.sk-parallel-item:first-child::after {align-self: flex-end;width: 50%;}#sk-container-id-2 div.sk-parallel-item:last-child::after {align-self: flex-start;width: 50%;}#sk-container-id-2 div.sk-parallel-item:only-child::after {width: 0;}#sk-container-id-2 div.sk-dashed-wrapped {border: 1px dashed gray;margin: 0 0.4em 0.5em 0.4em;box-sizing: border-box;padding-bottom: 0.4em;background-color: white;}#sk-container-id-2 div.sk-label label {font-family: monospace;font-weight: bold;display: inline-block;line-height: 1.2em;}#sk-container-id-2 div.sk-label-container {text-align: center;}#sk-container-id-2 div.sk-container {/* jupyter's `normalize.less` sets `[hidden] { display: none; }` but bootstrap.min.css set `[hidden] { display: none !important; }` so we also need the `!important` here to be able to override the default hidden behavior on the sphinx rendered scikit-learn.org. See: https://github.com/scikit-learn/scikit-learn/issues/21755 */display: inline-block !important;position: relative;}#sk-container-id-2 div.sk-text-repr-fallback {display: none;}</style><div id=\"sk-container-id-2\" class=\"sk-top-container\"><div class=\"sk-text-repr-fallback\"><pre>SVC()</pre><b>In a Jupyter environment, please rerun this cell to show the HTML representation or trust the notebook. <br />On GitHub, the HTML representation is unable to render, please try loading this page with nbviewer.org.</b></div><div class=\"sk-container\" hidden><div class=\"sk-item\"><div class=\"sk-estimator sk-toggleable\"><input class=\"sk-toggleable__control sk-hidden--visually\" id=\"sk-estimator-id-2\" type=\"checkbox\" checked><label for=\"sk-estimator-id-2\" class=\"sk-toggleable__label sk-toggleable__label-arrow\">SVC</label><div class=\"sk-toggleable__content\"><pre>SVC()</pre></div></div></div></div></div>"
      ],
      "text/plain": [
       "SVC()"
      ]
     },
     "execution_count": 10,
     "metadata": {},
     "output_type": "execute_result"
    }
   ],
   "source": [
    "from sklearn import svm\n",
    "svm_classifier=svm.SVC()\n",
    "svm_classifier.fit(X_train,y_train)"
   ]
  },
  {
   "cell_type": "markdown",
   "metadata": {},
   "source": [
    "After we train the classifier , we once again check how it performed based on accuracy and f1-score."
   ]
  },
  {
   "cell_type": "code",
   "execution_count": 11,
   "metadata": {},
   "outputs": [
    {
     "name": "stdout",
     "output_type": "stream",
     "text": [
      "The Accuracy of the SVM Classifier is :  0.7401014697421413\n",
      "The f1-score of the SVM Classifier is :  0.7027576718310701\n"
     ]
    }
   ],
   "source": [
    "y_pred=svm_classifier.predict(X_test) \n",
    "\n",
    "print(\"The Accuracy of the SVM Classifier is : \",accuracy_score(y_test,y_pred))\n",
    "print(\"The f1-score of the SVM Classifier is : \",f1_score(y_test,y_pred))"
   ]
  },
  {
   "cell_type": "markdown",
   "metadata": {},
   "source": [
    "We also need to check the confusion matrix once again to determine if the classifier performed well on both classes."
   ]
  },
  {
   "cell_type": "code",
   "execution_count": 12,
   "metadata": {},
   "outputs": [
    {
     "data": {
      "text/plain": [
       "<sklearn.metrics._plot.confusion_matrix.ConfusionMatrixDisplay at 0x2819dc06750>"
      ]
     },
     "execution_count": 12,
     "metadata": {},
     "output_type": "execute_result"
    },
    {
     "data": {
      "image/png": "[encoded data removed]",
      "text/plain": [
       "<Figure size 640x480 with 2 Axes>"
      ]
     },
     "metadata": {},
     "output_type": "display_data"
    }
   ],
   "source": [
    "labels = [0,1]\n",
    "cm = confusion_matrix(y_test, y_pred, labels=labels)\n",
    "disp = ConfusionMatrixDisplay(confusion_matrix=cm, display_labels=labels)\n",
    "disp.plot()"
   ]
  },
  {
   "cell_type": "markdown",
   "metadata": {},
   "source": [
    "As we can see , the SVM classifier performed much better , by improving the true positive to false negative ratio , while at the same time it didnt change much the true negative false positive ratio."
   ]
  },
  {
   "cell_type": "markdown",
   "metadata": {},
   "source": [
    "The last classifier i am going to use is a neural network.In order to determine the appropriate number of layers and neurons per layer I experimented a lot and found out that using 2 layers with 512 neurons per layer on the initial dataset , without transforming it to a numeric representation , yielded the best results.\n",
    "There is a change the model overfitted the data , but it performed relatively well on the test data as well.\n",
    "Also I monitored the training process based on val_loss (the loss on test data ) with early stopping, in order to prevent overfitting."
   ]
  },
  {
   "cell_type": "markdown",
   "metadata": {},
   "source": [
    "First of all , we need to create a neural network with an input layer with a number of neurons equal to out dataset dimensionality."
   ]
  },
  {
   "cell_type": "code",
   "execution_count": 13,
   "metadata": {},
   "outputs": [
    {
     "name": "stdout",
     "output_type": "stream",
     "text": [
      "The number of input layer neurons needed is :  46\n"
     ]
    }
   ],
   "source": [
    "print(\"The number of input layer neurons needed is : \",X.shape[1])"
   ]
  },
  {
   "cell_type": "markdown",
   "metadata": {},
   "source": [
    "The output layer of our neural network is consisted of 1 neuron , which has a sigmoid activation function , meaning it returns a number between 0 and 1.\n",
    "We can then set a threshhold to determine in which class an input is classified.Since i balanced the classes using oversampling , i will use 0.5 as the threshhold."
   ]
  },
  {
   "cell_type": "code",
   "execution_count": 14,
   "metadata": {},
   "outputs": [],
   "source": [
    "X_train,X_test,y_train,y_test=train_test_split(X,y,test_size=0.3,random_state=42)"
   ]
  },
  {
   "cell_type": "code",
   "execution_count": 15,
   "metadata": {},
   "outputs": [
    {
     "name": "stdout",
     "output_type": "stream",
     "text": [
      "Model: \"model\"\n",
      "_________________________________________________________________\n",
      " Layer (type)                Output Shape              Param #   \n",
      "=================================================================\n",
      " input_1 (InputLayer)        [(None, 46)]              0         \n",
      "                                                                 \n",
      " dense (Dense)               (None, 512)               24064     \n",
      "                                                                 \n",
      " dense_1 (Dense)             (None, 512)               262656    \n",
      "                                                                 \n",
      " dense_2 (Dense)             (None, 1)                 513       \n",
      "                                                                 \n",
      "=================================================================\n",
      "Total params: 287,233\n",
      "Trainable params: 287,233\n",
      "Non-trainable params: 0\n",
      "_________________________________________________________________\n"
     ]
    }
   ],
   "source": [
    "input_layer = keras.layers.Input(shape=(46,))\n",
    "outputs=keras.layers.Dense(units=512, activation=\"relu\")(input_layer)\n",
    "outputs = keras.layers.Dense(units=512, activation=\"relu\")(outputs)\n",
    "outputs = keras.layers.Dense(units=1, activation=\"sigmoid\")(outputs)\n",
    " \n",
    "nn_model = keras.Model(inputs=input_layer, outputs=outputs)\n",
    "nn_model.summary()"
   ]
  },
  {
   "cell_type": "markdown",
   "metadata": {},
   "source": [
    "Now we need to set the learning rate parameter for the neural network.I will use a really small learning rate (1/train size) in order for the network to train appropriatelly on the data.Im going to use binary_crossentropy as a loss function since we have a binary classification problem."
   ]
  },
  {
   "cell_type": "code",
   "execution_count": 16,
   "metadata": {},
   "outputs": [],
   "source": [
    "nn_model.compile(optimizer='adam', loss='binary_crossentropy', metrics=['accuracy'])\n",
    "from keras import backend as K\n",
    "K.set_value(nn_model.optimizer.learning_rate, 1/X_train.shape[0])"
   ]
  },
  {
   "cell_type": "markdown",
   "metadata": {},
   "source": [
    "The neural network is going to train for 200 epochs max.I will use the test data as validation data every epoch , because i have set early stopping based on the val_loss on test data , in order to avoid overfitting."
   ]
  },
  {
   "cell_type": "code",
   "execution_count": 17,
   "metadata": {},
   "outputs": [
    {
     "name": "stdout",
     "output_type": "stream",
     "text": [
      "Epoch 1/200\n",
      "175/175 [==============================] - 2s 7ms/step - loss: 0.5955 - accuracy: 0.7036 - val_loss: 0.5617 - val_accuracy: 0.7158\n",
      "Epoch 2/200\n",
      "175/175 [==============================] - 1s 6ms/step - loss: 0.5502 - accuracy: 0.7292 - val_loss: 0.5487 - val_accuracy: 0.7287\n",
      "Epoch 3/200\n",
      "175/175 [==============================] - 1s 6ms/step - loss: 0.5424 - accuracy: 0.7342 - val_loss: 0.5441 - val_accuracy: 0.7296\n",
      "Epoch 4/200\n",
      "175/175 [==============================] - 1s 6ms/step - loss: 0.5388 - accuracy: 0.7351 - val_loss: 0.5421 - val_accuracy: 0.7306\n",
      "Epoch 5/200\n",
      "175/175 [==============================] - 1s 6ms/step - loss: 0.5365 - accuracy: 0.7376 - val_loss: 0.5402 - val_accuracy: 0.7324\n",
      "Epoch 6/200\n",
      "175/175 [==============================] - 1s 6ms/step - loss: 0.5345 - accuracy: 0.7378 - val_loss: 0.5385 - val_accuracy: 0.7334\n",
      "Epoch 7/200\n",
      "175/175 [==============================] - 1s 6ms/step - loss: 0.5328 - accuracy: 0.7392 - val_loss: 0.5375 - val_accuracy: 0.7353\n",
      "Epoch 8/200\n",
      "175/175 [==============================] - 1s 6ms/step - loss: 0.5312 - accuracy: 0.7407 - val_loss: 0.5361 - val_accuracy: 0.7360\n",
      "Epoch 9/200\n",
      "175/175 [==============================] - 1s 6ms/step - loss: 0.5298 - accuracy: 0.7432 - val_loss: 0.5349 - val_accuracy: 0.7384\n",
      "Epoch 10/200\n",
      "175/175 [==============================] - 1s 6ms/step - loss: 0.5285 - accuracy: 0.7440 - val_loss: 0.5340 - val_accuracy: 0.7395\n",
      "Epoch 11/200\n",
      "175/175 [==============================] - 1s 6ms/step - loss: 0.5272 - accuracy: 0.7454 - val_loss: 0.5335 - val_accuracy: 0.7398\n",
      "Epoch 12/200\n",
      "175/175 [==============================] - 1s 6ms/step - loss: 0.5261 - accuracy: 0.7461 - val_loss: 0.5320 - val_accuracy: 0.7399\n",
      "Epoch 13/200\n",
      "175/175 [==============================] - 1s 6ms/step - loss: 0.5250 - accuracy: 0.7465 - val_loss: 0.5313 - val_accuracy: 0.7405\n",
      "Epoch 14/200\n",
      "175/175 [==============================] - 1s 6ms/step - loss: 0.5237 - accuracy: 0.7465 - val_loss: 0.5307 - val_accuracy: 0.7398\n",
      "Epoch 15/200\n",
      "175/175 [==============================] - 1s 6ms/step - loss: 0.5228 - accuracy: 0.7471 - val_loss: 0.5294 - val_accuracy: 0.7402\n",
      "Epoch 16/200\n",
      "175/175 [==============================] - 1s 6ms/step - loss: 0.5218 - accuracy: 0.7478 - val_loss: 0.5291 - val_accuracy: 0.7398\n",
      "Epoch 17/200\n",
      "175/175 [==============================] - 1s 6ms/step - loss: 0.5208 - accuracy: 0.7475 - val_loss: 0.5283 - val_accuracy: 0.7405\n",
      "Epoch 18/200\n",
      "175/175 [==============================] - 1s 6ms/step - loss: 0.5199 - accuracy: 0.7482 - val_loss: 0.5276 - val_accuracy: 0.7418\n",
      "Epoch 19/200\n",
      "175/175 [==============================] - 1s 6ms/step - loss: 0.5188 - accuracy: 0.7484 - val_loss: 0.5266 - val_accuracy: 0.7407\n",
      "Epoch 20/200\n",
      "175/175 [==============================] - 1s 6ms/step - loss: 0.5178 - accuracy: 0.7493 - val_loss: 0.5261 - val_accuracy: 0.7405\n",
      "Epoch 21/200\n",
      "175/175 [==============================] - 1s 6ms/step - loss: 0.5170 - accuracy: 0.7494 - val_loss: 0.5255 - val_accuracy: 0.7414\n",
      "Epoch 22/200\n",
      "175/175 [==============================] - 1s 6ms/step - loss: 0.5161 - accuracy: 0.7495 - val_loss: 0.5246 - val_accuracy: 0.7424\n",
      "Epoch 23/200\n",
      "175/175 [==============================] - 1s 6ms/step - loss: 0.5152 - accuracy: 0.7499 - val_loss: 0.5242 - val_accuracy: 0.7410\n",
      "Epoch 24/200\n",
      "175/175 [==============================] - 1s 6ms/step - loss: 0.5144 - accuracy: 0.7504 - val_loss: 0.5238 - val_accuracy: 0.7422\n",
      "Epoch 25/200\n",
      "175/175 [==============================] - 1s 6ms/step - loss: 0.5135 - accuracy: 0.7506 - val_loss: 0.5229 - val_accuracy: 0.7428\n",
      "Epoch 26/200\n",
      "175/175 [==============================] - 1s 6ms/step - loss: 0.5128 - accuracy: 0.7505 - val_loss: 0.5221 - val_accuracy: 0.7434\n",
      "Epoch 27/200\n",
      "175/175 [==============================] - 1s 6ms/step - loss: 0.5118 - accuracy: 0.7513 - val_loss: 0.5219 - val_accuracy: 0.7442\n",
      "Epoch 28/200\n",
      "175/175 [==============================] - 1s 6ms/step - loss: 0.5109 - accuracy: 0.7522 - val_loss: 0.5208 - val_accuracy: 0.7434\n",
      "Epoch 29/200\n",
      "175/175 [==============================] - 1s 6ms/step - loss: 0.5102 - accuracy: 0.7519 - val_loss: 0.5202 - val_accuracy: 0.7435\n",
      "Epoch 30/200\n",
      "175/175 [==============================] - 1s 6ms/step - loss: 0.5093 - accuracy: 0.7528 - val_loss: 0.5196 - val_accuracy: 0.7434\n",
      "Epoch 31/200\n",
      "175/175 [==============================] - 1s 6ms/step - loss: 0.5085 - accuracy: 0.7531 - val_loss: 0.5195 - val_accuracy: 0.7434\n",
      "Epoch 32/200\n",
      "175/175 [==============================] - 1s 6ms/step - loss: 0.5077 - accuracy: 0.7522 - val_loss: 0.5185 - val_accuracy: 0.7445\n",
      "Epoch 33/200\n",
      "175/175 [==============================] - 1s 6ms/step - loss: 0.5068 - accuracy: 0.7533 - val_loss: 0.5180 - val_accuracy: 0.7454\n",
      "Epoch 34/200\n",
      "175/175 [==============================] - 1s 6ms/step - loss: 0.5060 - accuracy: 0.7538 - val_loss: 0.5172 - val_accuracy: 0.7470\n",
      "Epoch 35/200\n",
      "175/175 [==============================] - 1s 6ms/step - loss: 0.5053 - accuracy: 0.7547 - val_loss: 0.5168 - val_accuracy: 0.7456\n",
      "Epoch 36/200\n",
      "175/175 [==============================] - 1s 6ms/step - loss: 0.5043 - accuracy: 0.7550 - val_loss: 0.5166 - val_accuracy: 0.7448\n",
      "Epoch 37/200\n",
      "175/175 [==============================] - 1s 6ms/step - loss: 0.5036 - accuracy: 0.7541 - val_loss: 0.5155 - val_accuracy: 0.7466\n",
      "Epoch 38/200\n",
      "175/175 [==============================] - 1s 6ms/step - loss: 0.5028 - accuracy: 0.7550 - val_loss: 0.5153 - val_accuracy: 0.7477\n",
      "Epoch 39/200\n",
      "175/175 [==============================] - 1s 6ms/step - loss: 0.5020 - accuracy: 0.7556 - val_loss: 0.5148 - val_accuracy: 0.7471\n",
      "Epoch 40/200\n",
      "175/175 [==============================] - 1s 6ms/step - loss: 0.5011 - accuracy: 0.7560 - val_loss: 0.5141 - val_accuracy: 0.7469\n",
      "Epoch 41/200\n",
      "175/175 [==============================] - 1s 6ms/step - loss: 0.5005 - accuracy: 0.7567 - val_loss: 0.5139 - val_accuracy: 0.7476\n",
      "Epoch 42/200\n",
      "175/175 [==============================] - 1s 6ms/step - loss: 0.4996 - accuracy: 0.7569 - val_loss: 0.5126 - val_accuracy: 0.7483\n",
      "Epoch 43/200\n",
      "175/175 [==============================] - 1s 6ms/step - loss: 0.4987 - accuracy: 0.7571 - val_loss: 0.5122 - val_accuracy: 0.7485\n",
      "Epoch 44/200\n",
      "175/175 [==============================] - 1s 6ms/step - loss: 0.4982 - accuracy: 0.7580 - val_loss: 0.5117 - val_accuracy: 0.7479\n",
      "Epoch 45/200\n",
      "175/175 [==============================] - 1s 6ms/step - loss: 0.4972 - accuracy: 0.7585 - val_loss: 0.5112 - val_accuracy: 0.7493\n",
      "Epoch 46/200\n",
      "175/175 [==============================] - 1s 6ms/step - loss: 0.4964 - accuracy: 0.7592 - val_loss: 0.5109 - val_accuracy: 0.7470\n",
      "Epoch 47/200\n",
      "175/175 [==============================] - 1s 6ms/step - loss: 0.4956 - accuracy: 0.7588 - val_loss: 0.5100 - val_accuracy: 0.7510\n",
      "Epoch 48/200\n",
      "175/175 [==============================] - 1s 6ms/step - loss: 0.4948 - accuracy: 0.7589 - val_loss: 0.5099 - val_accuracy: 0.7496\n",
      "Epoch 49/200\n",
      "175/175 [==============================] - 1s 6ms/step - loss: 0.4940 - accuracy: 0.7601 - val_loss: 0.5090 - val_accuracy: 0.7476\n",
      "Epoch 50/200\n",
      "175/175 [==============================] - 1s 6ms/step - loss: 0.4933 - accuracy: 0.7615 - val_loss: 0.5090 - val_accuracy: 0.7487\n",
      "Epoch 51/200\n",
      "175/175 [==============================] - 1s 6ms/step - loss: 0.4926 - accuracy: 0.7602 - val_loss: 0.5083 - val_accuracy: 0.7478\n",
      "Epoch 52/200\n",
      "175/175 [==============================] - 1s 6ms/step - loss: 0.4917 - accuracy: 0.7610 - val_loss: 0.5081 - val_accuracy: 0.7501\n",
      "Epoch 53/200\n",
      "175/175 [==============================] - 1s 6ms/step - loss: 0.4910 - accuracy: 0.7611 - val_loss: 0.5067 - val_accuracy: 0.7499\n",
      "Epoch 54/200\n",
      "175/175 [==============================] - 1s 6ms/step - loss: 0.4901 - accuracy: 0.7621 - val_loss: 0.5061 - val_accuracy: 0.7508\n",
      "Epoch 55/200\n",
      "175/175 [==============================] - 1s 6ms/step - loss: 0.4893 - accuracy: 0.7627 - val_loss: 0.5063 - val_accuracy: 0.7496\n",
      "Epoch 56/200\n",
      "175/175 [==============================] - 1s 6ms/step - loss: 0.4886 - accuracy: 0.7638 - val_loss: 0.5054 - val_accuracy: 0.7557\n",
      "Epoch 57/200\n",
      "175/175 [==============================] - 1s 6ms/step - loss: 0.4878 - accuracy: 0.7651 - val_loss: 0.5055 - val_accuracy: 0.7527\n",
      "Epoch 58/200\n",
      "175/175 [==============================] - 1s 6ms/step - loss: 0.4870 - accuracy: 0.7638 - val_loss: 0.5041 - val_accuracy: 0.7550\n",
      "Epoch 59/200\n",
      "175/175 [==============================] - 1s 6ms/step - loss: 0.4863 - accuracy: 0.7647 - val_loss: 0.5032 - val_accuracy: 0.7536\n",
      "Epoch 60/200\n",
      "175/175 [==============================] - 1s 6ms/step - loss: 0.4853 - accuracy: 0.7660 - val_loss: 0.5034 - val_accuracy: 0.7528\n",
      "Epoch 61/200\n",
      "175/175 [==============================] - 1s 6ms/step - loss: 0.4847 - accuracy: 0.7655 - val_loss: 0.5027 - val_accuracy: 0.7557\n",
      "Epoch 62/200\n",
      "175/175 [==============================] - 1s 6ms/step - loss: 0.4839 - accuracy: 0.7667 - val_loss: 0.5028 - val_accuracy: 0.7540\n",
      "Epoch 63/200\n",
      "175/175 [==============================] - 1s 6ms/step - loss: 0.4833 - accuracy: 0.7668 - val_loss: 0.5016 - val_accuracy: 0.7543\n",
      "Epoch 64/200\n",
      "175/175 [==============================] - 1s 6ms/step - loss: 0.4823 - accuracy: 0.7682 - val_loss: 0.5010 - val_accuracy: 0.7542\n",
      "Epoch 65/200\n",
      "175/175 [==============================] - 1s 6ms/step - loss: 0.4815 - accuracy: 0.7680 - val_loss: 0.5012 - val_accuracy: 0.7538\n",
      "Epoch 66/200\n",
      "175/175 [==============================] - 1s 6ms/step - loss: 0.4808 - accuracy: 0.7682 - val_loss: 0.4996 - val_accuracy: 0.7561\n",
      "Epoch 67/200\n",
      "175/175 [==============================] - 1s 6ms/step - loss: 0.4800 - accuracy: 0.7688 - val_loss: 0.4990 - val_accuracy: 0.7574\n",
      "Epoch 68/200\n",
      "175/175 [==============================] - 1s 6ms/step - loss: 0.4792 - accuracy: 0.7700 - val_loss: 0.4987 - val_accuracy: 0.7568\n",
      "Epoch 69/200\n",
      "175/175 [==============================] - 1s 6ms/step - loss: 0.4784 - accuracy: 0.7708 - val_loss: 0.4982 - val_accuracy: 0.7571\n",
      "Epoch 70/200\n",
      "175/175 [==============================] - 1s 6ms/step - loss: 0.4776 - accuracy: 0.7712 - val_loss: 0.4975 - val_accuracy: 0.7570\n",
      "Epoch 71/200\n",
      "175/175 [==============================] - 1s 6ms/step - loss: 0.4768 - accuracy: 0.7720 - val_loss: 0.4968 - val_accuracy: 0.7592\n",
      "Epoch 72/200\n",
      "175/175 [==============================] - 1s 6ms/step - loss: 0.4762 - accuracy: 0.7732 - val_loss: 0.4964 - val_accuracy: 0.7578\n",
      "Epoch 73/200\n",
      "175/175 [==============================] - 1s 6ms/step - loss: 0.4754 - accuracy: 0.7734 - val_loss: 0.4964 - val_accuracy: 0.7581\n",
      "Epoch 74/200\n",
      "175/175 [==============================] - 1s 6ms/step - loss: 0.4746 - accuracy: 0.7732 - val_loss: 0.4956 - val_accuracy: 0.7596\n",
      "Epoch 75/200\n",
      "175/175 [==============================] - 1s 6ms/step - loss: 0.4737 - accuracy: 0.7734 - val_loss: 0.4953 - val_accuracy: 0.7588\n",
      "Epoch 76/200\n",
      "175/175 [==============================] - 1s 6ms/step - loss: 0.4730 - accuracy: 0.7742 - val_loss: 0.4943 - val_accuracy: 0.7600\n",
      "Epoch 77/200\n",
      "175/175 [==============================] - 1s 6ms/step - loss: 0.4722 - accuracy: 0.7755 - val_loss: 0.4940 - val_accuracy: 0.7609\n",
      "Epoch 78/200\n",
      "175/175 [==============================] - 1s 6ms/step - loss: 0.4713 - accuracy: 0.7760 - val_loss: 0.4944 - val_accuracy: 0.7579\n",
      "Epoch 79/200\n",
      "175/175 [==============================] - 1s 6ms/step - loss: 0.4707 - accuracy: 0.7763 - val_loss: 0.4933 - val_accuracy: 0.7597\n",
      "Epoch 80/200\n",
      "175/175 [==============================] - 1s 6ms/step - loss: 0.4700 - accuracy: 0.7770 - val_loss: 0.4924 - val_accuracy: 0.7624\n",
      "Epoch 81/200\n",
      "175/175 [==============================] - 1s 6ms/step - loss: 0.4690 - accuracy: 0.7776 - val_loss: 0.4920 - val_accuracy: 0.7598\n",
      "Epoch 82/200\n",
      "175/175 [==============================] - 1s 6ms/step - loss: 0.4682 - accuracy: 0.7780 - val_loss: 0.4913 - val_accuracy: 0.7633\n",
      "Epoch 83/200\n",
      "175/175 [==============================] - 1s 6ms/step - loss: 0.4676 - accuracy: 0.7785 - val_loss: 0.4911 - val_accuracy: 0.7625\n",
      "Epoch 84/200\n",
      "175/175 [==============================] - 1s 6ms/step - loss: 0.4667 - accuracy: 0.7792 - val_loss: 0.4913 - val_accuracy: 0.7610\n",
      "Epoch 85/200\n",
      "175/175 [==============================] - 1s 6ms/step - loss: 0.4659 - accuracy: 0.7789 - val_loss: 0.4907 - val_accuracy: 0.7629\n",
      "Epoch 86/200\n",
      "175/175 [==============================] - 1s 6ms/step - loss: 0.4650 - accuracy: 0.7794 - val_loss: 0.4889 - val_accuracy: 0.7642\n",
      "Epoch 87/200\n",
      "175/175 [==============================] - 1s 6ms/step - loss: 0.4643 - accuracy: 0.7807 - val_loss: 0.4890 - val_accuracy: 0.7634\n",
      "Epoch 88/200\n",
      "175/175 [==============================] - 1s 6ms/step - loss: 0.4635 - accuracy: 0.7812 - val_loss: 0.4881 - val_accuracy: 0.7651\n",
      "Epoch 89/200\n",
      "175/175 [==============================] - 1s 6ms/step - loss: 0.4626 - accuracy: 0.7813 - val_loss: 0.4874 - val_accuracy: 0.7664\n",
      "Epoch 90/200\n",
      "175/175 [==============================] - 1s 6ms/step - loss: 0.4620 - accuracy: 0.7822 - val_loss: 0.4868 - val_accuracy: 0.7663\n",
      "Epoch 91/200\n",
      "175/175 [==============================] - 1s 6ms/step - loss: 0.4611 - accuracy: 0.7823 - val_loss: 0.4871 - val_accuracy: 0.7663\n",
      "Epoch 92/200\n",
      "175/175 [==============================] - 1s 6ms/step - loss: 0.4604 - accuracy: 0.7826 - val_loss: 0.4858 - val_accuracy: 0.7656\n",
      "Epoch 93/200\n",
      "175/175 [==============================] - 1s 6ms/step - loss: 0.4595 - accuracy: 0.7833 - val_loss: 0.4855 - val_accuracy: 0.7662\n",
      "Epoch 94/200\n",
      "175/175 [==============================] - 1s 6ms/step - loss: 0.4587 - accuracy: 0.7841 - val_loss: 0.4855 - val_accuracy: 0.7661\n",
      "Epoch 95/200\n",
      "175/175 [==============================] - 1s 6ms/step - loss: 0.4580 - accuracy: 0.7836 - val_loss: 0.4844 - val_accuracy: 0.7672\n",
      "Epoch 96/200\n",
      "175/175 [==============================] - 1s 6ms/step - loss: 0.4573 - accuracy: 0.7850 - val_loss: 0.4842 - val_accuracy: 0.7667\n",
      "Epoch 97/200\n",
      "175/175 [==============================] - 1s 6ms/step - loss: 0.4565 - accuracy: 0.7849 - val_loss: 0.4841 - val_accuracy: 0.7677\n",
      "Epoch 98/200\n",
      "175/175 [==============================] - 1s 6ms/step - loss: 0.4555 - accuracy: 0.7857 - val_loss: 0.4826 - val_accuracy: 0.7677\n",
      "Epoch 99/200\n",
      "175/175 [==============================] - 1s 6ms/step - loss: 0.4548 - accuracy: 0.7867 - val_loss: 0.4821 - val_accuracy: 0.7697\n",
      "Epoch 100/200\n",
      "175/175 [==============================] - 1s 6ms/step - loss: 0.4539 - accuracy: 0.7865 - val_loss: 0.4817 - val_accuracy: 0.7679\n",
      "Epoch 101/200\n",
      "175/175 [==============================] - 1s 6ms/step - loss: 0.4531 - accuracy: 0.7875 - val_loss: 0.4815 - val_accuracy: 0.7672\n",
      "Epoch 102/200\n",
      "175/175 [==============================] - 1s 6ms/step - loss: 0.4524 - accuracy: 0.7869 - val_loss: 0.4813 - val_accuracy: 0.7692\n",
      "Epoch 103/200\n",
      "175/175 [==============================] - 1s 6ms/step - loss: 0.4517 - accuracy: 0.7882 - val_loss: 0.4797 - val_accuracy: 0.7695\n",
      "Epoch 104/200\n",
      "175/175 [==============================] - 1s 6ms/step - loss: 0.4508 - accuracy: 0.7885 - val_loss: 0.4791 - val_accuracy: 0.7713\n",
      "Epoch 105/200\n",
      "175/175 [==============================] - 1s 6ms/step - loss: 0.4502 - accuracy: 0.7881 - val_loss: 0.4788 - val_accuracy: 0.7710\n",
      "Epoch 106/200\n",
      "175/175 [==============================] - 1s 6ms/step - loss: 0.4491 - accuracy: 0.7897 - val_loss: 0.4787 - val_accuracy: 0.7704\n",
      "Epoch 107/200\n",
      "175/175 [==============================] - 1s 6ms/step - loss: 0.4484 - accuracy: 0.7900 - val_loss: 0.4777 - val_accuracy: 0.7710\n",
      "Epoch 108/200\n",
      "175/175 [==============================] - 1s 6ms/step - loss: 0.4477 - accuracy: 0.7907 - val_loss: 0.4775 - val_accuracy: 0.7720\n",
      "Epoch 109/200\n",
      "175/175 [==============================] - 1s 6ms/step - loss: 0.4469 - accuracy: 0.7918 - val_loss: 0.4771 - val_accuracy: 0.7709\n",
      "Epoch 110/200\n",
      "175/175 [==============================] - 1s 6ms/step - loss: 0.4463 - accuracy: 0.7923 - val_loss: 0.4759 - val_accuracy: 0.7737\n",
      "Epoch 111/200\n",
      "175/175 [==============================] - 1s 6ms/step - loss: 0.4453 - accuracy: 0.7920 - val_loss: 0.4757 - val_accuracy: 0.7700\n",
      "Epoch 112/200\n",
      "175/175 [==============================] - 1s 6ms/step - loss: 0.4445 - accuracy: 0.7933 - val_loss: 0.4758 - val_accuracy: 0.7708\n",
      "Epoch 113/200\n",
      "175/175 [==============================] - 1s 6ms/step - loss: 0.4437 - accuracy: 0.7934 - val_loss: 0.4746 - val_accuracy: 0.7720\n",
      "Epoch 114/200\n",
      "175/175 [==============================] - 1s 6ms/step - loss: 0.4426 - accuracy: 0.7946 - val_loss: 0.4740 - val_accuracy: 0.7738\n",
      "Epoch 115/200\n",
      "175/175 [==============================] - 1s 6ms/step - loss: 0.4420 - accuracy: 0.7941 - val_loss: 0.4732 - val_accuracy: 0.7761\n",
      "Epoch 116/200\n",
      "175/175 [==============================] - 1s 6ms/step - loss: 0.4411 - accuracy: 0.7953 - val_loss: 0.4730 - val_accuracy: 0.7725\n",
      "Epoch 117/200\n",
      "175/175 [==============================] - 1s 6ms/step - loss: 0.4406 - accuracy: 0.7953 - val_loss: 0.4728 - val_accuracy: 0.7767\n",
      "Epoch 118/200\n",
      "175/175 [==============================] - 1s 6ms/step - loss: 0.4397 - accuracy: 0.7962 - val_loss: 0.4715 - val_accuracy: 0.7744\n",
      "Epoch 119/200\n",
      "175/175 [==============================] - 1s 6ms/step - loss: 0.4388 - accuracy: 0.7970 - val_loss: 0.4716 - val_accuracy: 0.7730\n",
      "Epoch 120/200\n",
      "175/175 [==============================] - 1s 6ms/step - loss: 0.4378 - accuracy: 0.7973 - val_loss: 0.4704 - val_accuracy: 0.7767\n",
      "Epoch 121/200\n",
      "175/175 [==============================] - 1s 6ms/step - loss: 0.4374 - accuracy: 0.7972 - val_loss: 0.4712 - val_accuracy: 0.7767\n",
      "Epoch 122/200\n",
      "175/175 [==============================] - 1s 6ms/step - loss: 0.4364 - accuracy: 0.7985 - val_loss: 0.4697 - val_accuracy: 0.7743\n",
      "Epoch 123/200\n",
      "175/175 [==============================] - 1s 6ms/step - loss: 0.4357 - accuracy: 0.7974 - val_loss: 0.4689 - val_accuracy: 0.7791\n",
      "Epoch 124/200\n",
      "175/175 [==============================] - 1s 6ms/step - loss: 0.4349 - accuracy: 0.7996 - val_loss: 0.4689 - val_accuracy: 0.7774\n",
      "Epoch 125/200\n",
      "175/175 [==============================] - 1s 6ms/step - loss: 0.4339 - accuracy: 0.7997 - val_loss: 0.4677 - val_accuracy: 0.7772\n",
      "Epoch 126/200\n",
      "175/175 [==============================] - 1s 6ms/step - loss: 0.4332 - accuracy: 0.7996 - val_loss: 0.4697 - val_accuracy: 0.7735\n",
      "Epoch 127/200\n",
      "175/175 [==============================] - 1s 6ms/step - loss: 0.4325 - accuracy: 0.8008 - val_loss: 0.4673 - val_accuracy: 0.7781\n",
      "Epoch 128/200\n",
      "175/175 [==============================] - 1s 6ms/step - loss: 0.4318 - accuracy: 0.8007 - val_loss: 0.4672 - val_accuracy: 0.7783\n",
      "Epoch 129/200\n",
      "175/175 [==============================] - 1s 6ms/step - loss: 0.4308 - accuracy: 0.8021 - val_loss: 0.4661 - val_accuracy: 0.7789\n",
      "Epoch 130/200\n",
      "175/175 [==============================] - 1s 6ms/step - loss: 0.4301 - accuracy: 0.8018 - val_loss: 0.4661 - val_accuracy: 0.7772\n",
      "Epoch 131/200\n",
      "175/175 [==============================] - 1s 6ms/step - loss: 0.4291 - accuracy: 0.8023 - val_loss: 0.4650 - val_accuracy: 0.7801\n",
      "Epoch 132/200\n",
      "175/175 [==============================] - 1s 6ms/step - loss: 0.4285 - accuracy: 0.8026 - val_loss: 0.4648 - val_accuracy: 0.7778\n",
      "Epoch 133/200\n",
      "175/175 [==============================] - 1s 6ms/step - loss: 0.4276 - accuracy: 0.8041 - val_loss: 0.4637 - val_accuracy: 0.7795\n",
      "Epoch 134/200\n",
      "175/175 [==============================] - 1s 6ms/step - loss: 0.4268 - accuracy: 0.8041 - val_loss: 0.4636 - val_accuracy: 0.7815\n",
      "Epoch 135/200\n",
      "175/175 [==============================] - 1s 6ms/step - loss: 0.4260 - accuracy: 0.8051 - val_loss: 0.4638 - val_accuracy: 0.7793\n",
      "Epoch 136/200\n",
      "175/175 [==============================] - 1s 6ms/step - loss: 0.4253 - accuracy: 0.8048 - val_loss: 0.4626 - val_accuracy: 0.7813\n",
      "Epoch 137/200\n",
      "175/175 [==============================] - 1s 6ms/step - loss: 0.4242 - accuracy: 0.8058 - val_loss: 0.4616 - val_accuracy: 0.7812\n",
      "Epoch 138/200\n",
      "175/175 [==============================] - 1s 6ms/step - loss: 0.4236 - accuracy: 0.8058 - val_loss: 0.4608 - val_accuracy: 0.7815\n",
      "Epoch 139/200\n",
      "175/175 [==============================] - 1s 6ms/step - loss: 0.4228 - accuracy: 0.8061 - val_loss: 0.4617 - val_accuracy: 0.7808\n",
      "Epoch 140/200\n",
      "175/175 [==============================] - 1s 6ms/step - loss: 0.4223 - accuracy: 0.8071 - val_loss: 0.4610 - val_accuracy: 0.7831\n",
      "Epoch 141/200\n",
      "175/175 [==============================] - 1s 6ms/step - loss: 0.4213 - accuracy: 0.8072 - val_loss: 0.4603 - val_accuracy: 0.7816\n",
      "Epoch 142/200\n",
      "175/175 [==============================] - 1s 6ms/step - loss: 0.4203 - accuracy: 0.8072 - val_loss: 0.4585 - val_accuracy: 0.7835\n",
      "Epoch 143/200\n",
      "175/175 [==============================] - 1s 6ms/step - loss: 0.4196 - accuracy: 0.8090 - val_loss: 0.4590 - val_accuracy: 0.7838\n",
      "Epoch 144/200\n",
      "175/175 [==============================] - 1s 6ms/step - loss: 0.4190 - accuracy: 0.8087 - val_loss: 0.4582 - val_accuracy: 0.7844\n",
      "Epoch 145/200\n",
      "175/175 [==============================] - 1s 6ms/step - loss: 0.4182 - accuracy: 0.8094 - val_loss: 0.4572 - val_accuracy: 0.7840\n",
      "Epoch 146/200\n",
      "175/175 [==============================] - 1s 7ms/step - loss: 0.4173 - accuracy: 0.8100 - val_loss: 0.4564 - val_accuracy: 0.7856\n",
      "Epoch 147/200\n",
      "175/175 [==============================] - 1s 6ms/step - loss: 0.4165 - accuracy: 0.8094 - val_loss: 0.4564 - val_accuracy: 0.7847\n",
      "Epoch 148/200\n",
      "175/175 [==============================] - 1s 6ms/step - loss: 0.4157 - accuracy: 0.8103 - val_loss: 0.4559 - val_accuracy: 0.7842\n",
      "Epoch 149/200\n",
      "175/175 [==============================] - 1s 6ms/step - loss: 0.4149 - accuracy: 0.8117 - val_loss: 0.4557 - val_accuracy: 0.7834\n",
      "Epoch 150/200\n",
      "175/175 [==============================] - 1s 6ms/step - loss: 0.4140 - accuracy: 0.8107 - val_loss: 0.4554 - val_accuracy: 0.7835\n",
      "Epoch 151/200\n",
      "175/175 [==============================] - 1s 6ms/step - loss: 0.4133 - accuracy: 0.8122 - val_loss: 0.4542 - val_accuracy: 0.7859\n",
      "Epoch 152/200\n",
      "175/175 [==============================] - 1s 6ms/step - loss: 0.4123 - accuracy: 0.8119 - val_loss: 0.4539 - val_accuracy: 0.7853\n",
      "Epoch 153/200\n",
      "175/175 [==============================] - 1s 6ms/step - loss: 0.4117 - accuracy: 0.8128 - val_loss: 0.4528 - val_accuracy: 0.7852\n",
      "Epoch 154/200\n",
      "175/175 [==============================] - 1s 7ms/step - loss: 0.4107 - accuracy: 0.8134 - val_loss: 0.4536 - val_accuracy: 0.7856\n",
      "Epoch 155/200\n",
      "175/175 [==============================] - 1s 6ms/step - loss: 0.4101 - accuracy: 0.8134 - val_loss: 0.4516 - val_accuracy: 0.7872\n",
      "Epoch 156/200\n",
      "175/175 [==============================] - 1s 6ms/step - loss: 0.4094 - accuracy: 0.8140 - val_loss: 0.4509 - val_accuracy: 0.7881\n",
      "Epoch 157/200\n",
      "175/175 [==============================] - 1s 6ms/step - loss: 0.4085 - accuracy: 0.8144 - val_loss: 0.4521 - val_accuracy: 0.7852\n",
      "Epoch 158/200\n",
      "175/175 [==============================] - 1s 6ms/step - loss: 0.4076 - accuracy: 0.8157 - val_loss: 0.4525 - val_accuracy: 0.7831\n",
      "Epoch 159/200\n",
      "175/175 [==============================] - 1s 6ms/step - loss: 0.4067 - accuracy: 0.8160 - val_loss: 0.4498 - val_accuracy: 0.7881\n",
      "Epoch 160/200\n",
      "175/175 [==============================] - 1s 6ms/step - loss: 0.4061 - accuracy: 0.8162 - val_loss: 0.4490 - val_accuracy: 0.7899\n",
      "Epoch 161/200\n",
      "175/175 [==============================] - 1s 6ms/step - loss: 0.4052 - accuracy: 0.8166 - val_loss: 0.4487 - val_accuracy: 0.7899\n",
      "Epoch 162/200\n",
      "175/175 [==============================] - 1s 6ms/step - loss: 0.4042 - accuracy: 0.8172 - val_loss: 0.4478 - val_accuracy: 0.7906\n",
      "Epoch 163/200\n",
      "175/175 [==============================] - 1s 6ms/step - loss: 0.4037 - accuracy: 0.8167 - val_loss: 0.4473 - val_accuracy: 0.7885\n",
      "Epoch 164/200\n",
      "175/175 [==============================] - 1s 6ms/step - loss: 0.4027 - accuracy: 0.8180 - val_loss: 0.4465 - val_accuracy: 0.7899\n",
      "Epoch 165/200\n",
      "175/175 [==============================] - 1s 6ms/step - loss: 0.4023 - accuracy: 0.8185 - val_loss: 0.4464 - val_accuracy: 0.7907\n",
      "Epoch 166/200\n",
      "175/175 [==============================] - 1s 6ms/step - loss: 0.4015 - accuracy: 0.8187 - val_loss: 0.4459 - val_accuracy: 0.7901\n",
      "Epoch 167/200\n",
      "175/175 [==============================] - 1s 6ms/step - loss: 0.4005 - accuracy: 0.8188 - val_loss: 0.4460 - val_accuracy: 0.7894\n",
      "Epoch 168/200\n",
      "175/175 [==============================] - 1s 6ms/step - loss: 0.3998 - accuracy: 0.8198 - val_loss: 0.4450 - val_accuracy: 0.7901\n",
      "Epoch 169/200\n",
      "175/175 [==============================] - 1s 6ms/step - loss: 0.3989 - accuracy: 0.8211 - val_loss: 0.4452 - val_accuracy: 0.7916\n",
      "Epoch 170/200\n",
      "175/175 [==============================] - 1s 6ms/step - loss: 0.3983 - accuracy: 0.8200 - val_loss: 0.4441 - val_accuracy: 0.7896\n",
      "Epoch 171/200\n",
      "175/175 [==============================] - 1s 6ms/step - loss: 0.3973 - accuracy: 0.8207 - val_loss: 0.4435 - val_accuracy: 0.7907\n",
      "Epoch 172/200\n",
      "175/175 [==============================] - 1s 6ms/step - loss: 0.3966 - accuracy: 0.8212 - val_loss: 0.4430 - val_accuracy: 0.7917\n",
      "Epoch 173/200\n",
      "175/175 [==============================] - 1s 6ms/step - loss: 0.3958 - accuracy: 0.8212 - val_loss: 0.4423 - val_accuracy: 0.7920\n",
      "Epoch 174/200\n",
      "175/175 [==============================] - 1s 6ms/step - loss: 0.3953 - accuracy: 0.8228 - val_loss: 0.4423 - val_accuracy: 0.7930\n",
      "Epoch 175/200\n",
      "175/175 [==============================] - 1s 6ms/step - loss: 0.3942 - accuracy: 0.8233 - val_loss: 0.4423 - val_accuracy: 0.7943\n",
      "Epoch 176/200\n",
      "175/175 [==============================] - 1s 6ms/step - loss: 0.3935 - accuracy: 0.8233 - val_loss: 0.4421 - val_accuracy: 0.7886\n",
      "Epoch 177/200\n",
      "175/175 [==============================] - 1s 6ms/step - loss: 0.3929 - accuracy: 0.8232 - val_loss: 0.4402 - val_accuracy: 0.7947\n",
      "Epoch 178/200\n",
      "175/175 [==============================] - 1s 6ms/step - loss: 0.3921 - accuracy: 0.8244 - val_loss: 0.4400 - val_accuracy: 0.7928\n",
      "Epoch 179/200\n",
      "175/175 [==============================] - 1s 6ms/step - loss: 0.3914 - accuracy: 0.8247 - val_loss: 0.4411 - val_accuracy: 0.7944\n",
      "Epoch 180/200\n",
      "175/175 [==============================] - 1s 6ms/step - loss: 0.3905 - accuracy: 0.8255 - val_loss: 0.4388 - val_accuracy: 0.7943\n",
      "Epoch 181/200\n",
      "175/175 [==============================] - 1s 6ms/step - loss: 0.3896 - accuracy: 0.8253 - val_loss: 0.4401 - val_accuracy: 0.7927\n",
      "Epoch 182/200\n",
      "175/175 [==============================] - 1s 6ms/step - loss: 0.3890 - accuracy: 0.8252 - val_loss: 0.4376 - val_accuracy: 0.7947\n",
      "Epoch 183/200\n",
      "175/175 [==============================] - 1s 6ms/step - loss: 0.3884 - accuracy: 0.8263 - val_loss: 0.4371 - val_accuracy: 0.7981\n",
      "Epoch 184/200\n",
      "175/175 [==============================] - 1s 6ms/step - loss: 0.3871 - accuracy: 0.8274 - val_loss: 0.4377 - val_accuracy: 0.7936\n",
      "Epoch 185/200\n",
      "175/175 [==============================] - 1s 6ms/step - loss: 0.3868 - accuracy: 0.8273 - val_loss: 0.4364 - val_accuracy: 0.7950\n",
      "Epoch 186/200\n",
      "175/175 [==============================] - 1s 6ms/step - loss: 0.3859 - accuracy: 0.8285 - val_loss: 0.4357 - val_accuracy: 0.7954\n",
      "Epoch 187/200\n",
      "175/175 [==============================] - 1s 6ms/step - loss: 0.3852 - accuracy: 0.8286 - val_loss: 0.4372 - val_accuracy: 0.7918\n",
      "Epoch 188/200\n",
      "175/175 [==============================] - 1s 6ms/step - loss: 0.3843 - accuracy: 0.8292 - val_loss: 0.4348 - val_accuracy: 0.7962\n",
      "Epoch 189/200\n",
      "175/175 [==============================] - 1s 6ms/step - loss: 0.3838 - accuracy: 0.8297 - val_loss: 0.4343 - val_accuracy: 0.7970\n",
      "Epoch 190/200\n",
      "175/175 [==============================] - 1s 6ms/step - loss: 0.3830 - accuracy: 0.8303 - val_loss: 0.4332 - val_accuracy: 0.7974\n",
      "Epoch 191/200\n",
      "175/175 [==============================] - 1s 6ms/step - loss: 0.3820 - accuracy: 0.8299 - val_loss: 0.4333 - val_accuracy: 0.7971\n",
      "Epoch 192/200\n",
      "175/175 [==============================] - 1s 6ms/step - loss: 0.3817 - accuracy: 0.8293 - val_loss: 0.4324 - val_accuracy: 0.8006\n",
      "Epoch 193/200\n",
      "175/175 [==============================] - 1s 6ms/step - loss: 0.3808 - accuracy: 0.8323 - val_loss: 0.4323 - val_accuracy: 0.7988\n",
      "Epoch 194/200\n",
      "175/175 [==============================] - 1s 6ms/step - loss: 0.3797 - accuracy: 0.8306 - val_loss: 0.4329 - val_accuracy: 0.7990\n",
      "Epoch 195/200\n",
      "175/175 [==============================] - 1s 6ms/step - loss: 0.3788 - accuracy: 0.8321 - val_loss: 0.4315 - val_accuracy: 0.7993\n",
      "Epoch 196/200\n",
      "175/175 [==============================] - 1s 6ms/step - loss: 0.3782 - accuracy: 0.8334 - val_loss: 0.4310 - val_accuracy: 0.7995\n",
      "Epoch 197/200\n",
      "175/175 [==============================] - 1s 6ms/step - loss: 0.3776 - accuracy: 0.8334 - val_loss: 0.4308 - val_accuracy: 0.8015\n",
      "Epoch 198/200\n",
      "175/175 [==============================] - 1s 6ms/step - loss: 0.3768 - accuracy: 0.8333 - val_loss: 0.4290 - val_accuracy: 0.8011\n",
      "Epoch 199/200\n",
      "175/175 [==============================] - 1s 6ms/step - loss: 0.3762 - accuracy: 0.8341 - val_loss: 0.4294 - val_accuracy: 0.8003\n",
      "Epoch 200/200\n",
      "175/175 [==============================] - 1s 6ms/step - loss: 0.3753 - accuracy: 0.8346 - val_loss: 0.4282 - val_accuracy: 0.8030\n"
     ]
    },
    {
     "data": {
      "text/plain": [
       "<keras.callbacks.History at 0x2819e364490>"
      ]
     },
     "execution_count": 17,
     "metadata": {},
     "output_type": "execute_result"
    }
   ],
   "source": [
    "callback = keras.callbacks.EarlyStopping(monitor='val_loss', patience=3)\n",
    "model_hist = nn_model.fit(X_train, y_train, epochs=200, validation_data=(X_test, y_test), callbacks=[callback],batch_size=256)\n",
    "model_hist"
   ]
  },
  {
   "cell_type": "code",
   "execution_count": 18,
   "metadata": {},
   "outputs": [
    {
     "name": "stdout",
     "output_type": "stream",
     "text": [
      "598/598 [==============================] - 1s 893us/step\n",
      "The f1-score of the Neural Network with a threshhold of 0.5 is:  0.7968277945619335\n",
      "The Accuracy of the Neural Network with a threshhold of 0.5 is:  0.803023170667922\n"
     ]
    }
   ],
   "source": [
    "y_pred=nn_model.predict(X_test) \n",
    "y_pred = np.where(y_pred > 0.5, 1, 0)\n",
    "\n",
    "print(\"The f1-score of the Neural Network with a threshhold of 0.5 is: \",f1_score(y_test,y_pred))\n",
    "print(\"The Accuracy of the Neural Network with a threshhold of 0.5 is: \",accuracy_score(y_test,y_pred))"
   ]
  },
  {
   "cell_type": "markdown",
   "metadata": {},
   "source": [
    "As we can see , the neural network has the best f1-score and accuracy on the test data compared to the other classifiers."
   ]
  },
  {
   "cell_type": "code",
   "execution_count": 19,
   "metadata": {},
   "outputs": [
    {
     "data": {
      "text/plain": [
       "<sklearn.metrics._plot.confusion_matrix.ConfusionMatrixDisplay at 0x281a0491b10>"
      ]
     },
     "execution_count": 19,
     "metadata": {},
     "output_type": "execute_result"
    },
    {
     "data": {
      "image/png": "[encoded data removed]",
      "text/plain": [
       "<Figure size 640x480 with 2 Axes>"
      ]
     },
     "metadata": {},
     "output_type": "display_data"
    }
   ],
   "source": [
    "labels = [0,1]\n",
    "cm = confusion_matrix(y_test, y_pred, labels=labels)\n",
    "disp = ConfusionMatrixDisplay(confusion_matrix=cm, display_labels=labels)\n",
    "disp.plot()"
   ]
  },
  {
   "cell_type": "markdown",
   "metadata": {},
   "source": [
    "Now lets check what AUC (Area Under the Curve) each classifier has."
   ]
  },
  {
   "cell_type": "code",
   "execution_count": 20,
   "metadata": {},
   "outputs": [
    {
     "name": "stdout",
     "output_type": "stream",
     "text": [
      "The AUC for the GNB Classifier is:  0.6790488313726263\n"
     ]
    }
   ],
   "source": [
    "from sklearn.metrics import roc_auc_score,roc_curve\n",
    "\n",
    "gaussian_y_pred=gaussian.predict(X_test)\n",
    "gaussian_fpr,gaussian_tpr,threshold=roc_curve(y_test,gaussian_y_pred,pos_label=1)\n",
    "print(\"The AUC for the GNB Classifier is: \",roc_auc_score(y_test, gaussian_y_pred))"
   ]
  },
  {
   "cell_type": "code",
   "execution_count": 21,
   "metadata": {},
   "outputs": [],
   "source": [
    "X_train,X_test,y_train,y_test=train_test_split(t_d,y,test_size=0.3,random_state=42)"
   ]
  },
  {
   "cell_type": "code",
   "execution_count": 22,
   "metadata": {},
   "outputs": [
    {
     "name": "stdout",
     "output_type": "stream",
     "text": [
      "The AUC for the SVM Classifier is:  0.7405645260571321\n"
     ]
    }
   ],
   "source": [
    "svm_y_pred=svm_classifier.predict(X_test)\n",
    "svm_fpr,svm_tpr,threshold=roc_curve(y_test,svm_y_pred,pos_label=1)\n",
    "print(\"The AUC for the SVM Classifier is: \",roc_auc_score(y_test, svm_y_pred))"
   ]
  },
  {
   "cell_type": "code",
   "execution_count": 23,
   "metadata": {},
   "outputs": [],
   "source": [
    "X_train,X_test,y_train,y_test=train_test_split(X,y,test_size=0.3,random_state=42)"
   ]
  },
  {
   "cell_type": "code",
   "execution_count": 24,
   "metadata": {},
   "outputs": [
    {
     "name": "stdout",
     "output_type": "stream",
     "text": [
      "598/598 [==============================] - 1s 920us/step\n",
      "The AUC for the Neural Network is:  0.8879233193099143\n"
     ]
    }
   ],
   "source": [
    "nn_model_y_pred=nn_model.predict(X_test)\n",
    "nn_model_fpr,nn_model_tpr,threshold=roc_curve(y_test,nn_model_y_pred,pos_label=1)\n",
    "print(\"The AUC for the Neural Network is: \",roc_auc_score(y_test, nn_model_y_pred))"
   ]
  },
  {
   "cell_type": "markdown",
   "metadata": {},
   "source": [
    "And now lets plot the ROC curve for each classifier."
   ]
  },
  {
   "cell_type": "code",
   "execution_count": 25,
   "metadata": {},
   "outputs": [
    {
     "data": {
      "image/png": "[encoded data removed]",
      "text/plain": [
       "<Figure size 640x480 with 1 Axes>"
      ]
     },
     "metadata": {},
     "output_type": "display_data"
    }
   ],
   "source": [
    "plt.plot(gaussian_fpr, gaussian_tpr, linestyle='--',color='orange', label='Gaussian Bayes')\n",
    "plt.plot(svm_fpr, svm_tpr, linestyle='--', color='blue',label='SVM')\n",
    "plt.plot(nn_model_fpr, nn_model_tpr, linestyle='--', color='yellow',label='Neural Network')\n",
    "\n",
    "plt.title('ROC curve')\n",
    "plt.xlabel('False Positive Rate')\n",
    "plt.ylabel('True Positive rate')\n",
    "\n",
    "plt.show()"
   ]
  },
  {
   "cell_type": "markdown",
   "metadata": {},
   "source": [
    "As we can see , the neural network outperformed the other classifiers and did a pretty good job."
   ]
  }
 ],
 "metadata": {
  "kernelspec": {
   "display_name": "Python 3.11.1 64-bit",
   "language": "python",
   "name": "python3"
  },
  "language_info": {
   "codemirror_mode": {
    "name": "ipython",
    "version": 3
   },
   "file_extension": ".py",
   "mimetype": "text/x-python",
   "name": "python",
   "nbconvert_exporter": "python",
   "pygments_lexer": "ipython3",
   "version": "3.11.1"
  },
  "orig_nbformat": 4,
  "vscode": {
   "interpreter": {
    "hash": "5238573367df39f7286bb46f9ff5f08f63a01a80960060ce41e3c79b190280fa"
   }
  }
 },
 "nbformat": 4,
 "nbformat_minor": 2
}
